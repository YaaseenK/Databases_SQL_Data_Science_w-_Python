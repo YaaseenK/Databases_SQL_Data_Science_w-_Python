{
 "cells": [
  {
   "cell_type": "code",
   "execution_count": 3,
   "metadata": {},
   "outputs": [],
   "source": [
    "import sqlite3\n",
    "import pandas as pd\n",
    "\n",
    "# Load CSV\n",
    "df = pd.read_csv('Film_Locations_in_San_Francisco_20250316.csv')\n",
    "\n",
    "# Connect to SQLite\n",
    "conn = sqlite3.connect('mydatabase.db')\n",
    "\n",
    "# Insert CSV data into table\n",
    "df.to_sql('film_locations', conn, if_exists='replace', index=False)\n",
    "\n",
    "# Close connection\n",
    "conn.close()\n"
   ]
  }
 ],
 "metadata": {
  "kernelspec": {
   "display_name": "Python 3",
   "language": "python",
   "name": "python3"
  },
  "language_info": {
   "codemirror_mode": {
    "name": "ipython",
    "version": 3
   },
   "file_extension": ".py",
   "mimetype": "text/x-python",
   "name": "python",
   "nbconvert_exporter": "python",
   "pygments_lexer": "ipython3",
   "version": "3.11.9"
  }
 },
 "nbformat": 4,
 "nbformat_minor": 2
}
